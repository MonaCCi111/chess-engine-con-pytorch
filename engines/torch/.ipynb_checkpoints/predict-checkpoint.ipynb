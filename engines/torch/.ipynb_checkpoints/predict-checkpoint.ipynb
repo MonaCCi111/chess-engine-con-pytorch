{
 "cells": [
  {
   "cell_type": "code",
   "execution_count": 1,
   "metadata": {
    "ExecuteTime": {
     "end_time": "2024-12-21T17:12:59.574094100Z",
     "start_time": "2024-12-21T17:12:42.591335600Z"
    }
   },
   "outputs": [
    {
     "ename": "KeyboardInterrupt",
     "evalue": "",
     "output_type": "error",
     "traceback": [
      "\u001B[1;31m---------------------------------------------------------------------------\u001B[0m",
      "\u001B[1;31mKeyboardInterrupt\u001B[0m                         Traceback (most recent call last)",
      "Cell \u001B[1;32mIn[1], line 3\u001B[0m\n\u001B[0;32m      1\u001B[0m \u001B[38;5;28;01mfrom\u001B[39;00m \u001B[38;5;21;01mchess\u001B[39;00m \u001B[38;5;28;01mimport\u001B[39;00m Board, pgn\n\u001B[0;32m      2\u001B[0m \u001B[38;5;28;01mfrom\u001B[39;00m \u001B[38;5;21;01mauxiliary_func\u001B[39;00m \u001B[38;5;28;01mimport\u001B[39;00m board_to_matrix\n\u001B[1;32m----> 3\u001B[0m \u001B[38;5;28;01mimport\u001B[39;00m \u001B[38;5;21;01mtorch\u001B[39;00m\n\u001B[0;32m      4\u001B[0m \u001B[38;5;28;01mfrom\u001B[39;00m \u001B[38;5;21;01mmodel\u001B[39;00m \u001B[38;5;28;01mimport\u001B[39;00m ChessModel\n\u001B[0;32m      5\u001B[0m \u001B[38;5;28;01mimport\u001B[39;00m \u001B[38;5;21;01mpickle\u001B[39;00m\n",
      "File \u001B[1;32mD:\\ProgramData\\anaconda3\\Lib\\site-packages\\torch\\__init__.py:2486\u001B[0m\n\u001B[0;32m   2482\u001B[0m \u001B[38;5;28;01mfrom\u001B[39;00m \u001B[38;5;21;01mtorch\u001B[39;00m\u001B[38;5;21;01m.\u001B[39;00m\u001B[38;5;21;01mfunc\u001B[39;00m \u001B[38;5;28;01mimport\u001B[39;00m vmap \u001B[38;5;28;01mas\u001B[39;00m vmap\n\u001B[0;32m   2485\u001B[0m \u001B[38;5;28;01mif\u001B[39;00m \u001B[38;5;129;01mnot\u001B[39;00m TYPE_CHECKING:\n\u001B[1;32m-> 2486\u001B[0m     \u001B[38;5;28;01mfrom\u001B[39;00m \u001B[38;5;21;01mtorch\u001B[39;00m \u001B[38;5;28;01mimport\u001B[39;00m _meta_registrations\n\u001B[0;32m   2488\u001B[0m \u001B[38;5;66;03m# Enable CUDA Sanitizer\u001B[39;00m\n\u001B[0;32m   2489\u001B[0m \u001B[38;5;28;01mif\u001B[39;00m \u001B[38;5;124m\"\u001B[39m\u001B[38;5;124mTORCH_CUDA_SANITIZER\u001B[39m\u001B[38;5;124m\"\u001B[39m \u001B[38;5;129;01min\u001B[39;00m os\u001B[38;5;241m.\u001B[39menviron:\n",
      "File \u001B[1;32mD:\\ProgramData\\anaconda3\\Lib\\site-packages\\torch\\_meta_registrations.py:6636\u001B[0m\n\u001B[0;32m   6632\u001B[0m             \u001B[38;5;28;01melse\u001B[39;00m:\n\u001B[0;32m   6633\u001B[0m                 _meta_lib_dont_use_me_use_register_meta\u001B[38;5;241m.\u001B[39mimpl(op_overload, fn)\n\u001B[1;32m-> 6636\u001B[0m activate_meta()\n",
      "File \u001B[1;32mD:\\ProgramData\\anaconda3\\Lib\\site-packages\\torch\\_meta_registrations.py:6633\u001B[0m, in \u001B[0;36mactivate_meta\u001B[1;34m()\u001B[0m\n\u001B[0;32m   6629\u001B[0m     _meta_lib_dont_use_me_use_register_meta_for_quantized\u001B[38;5;241m.\u001B[39mimpl(\n\u001B[0;32m   6630\u001B[0m         op_overload, fn\n\u001B[0;32m   6631\u001B[0m     )\n\u001B[0;32m   6632\u001B[0m \u001B[38;5;28;01melse\u001B[39;00m:\n\u001B[1;32m-> 6633\u001B[0m     _meta_lib_dont_use_me_use_register_meta\u001B[38;5;241m.\u001B[39mimpl(op_overload, fn)\n",
      "File \u001B[1;32mD:\\ProgramData\\anaconda3\\Lib\\site-packages\\torch\\library.py:323\u001B[0m, in \u001B[0;36mLibrary.impl\u001B[1;34m(self, op_name, fn, dispatch_key, with_keyset)\u001B[0m\n\u001B[0;32m    315\u001B[0m         \u001B[38;5;28;01mraise\u001B[39;00m \u001B[38;5;167;01mRuntimeError\u001B[39;00m(\n\u001B[0;32m    316\u001B[0m             \u001B[38;5;124mf\u001B[39m\u001B[38;5;124m\"\u001B[39m\u001B[38;5;124mWe should not register a meta kernel directly to the operator \u001B[39m\u001B[38;5;124m'\u001B[39m\u001B[38;5;132;01m{\u001B[39;00mname\u001B[38;5;132;01m}\u001B[39;00m\u001B[38;5;124m'\u001B[39m\u001B[38;5;124m,\u001B[39m\u001B[38;5;124m\"\u001B[39m\n\u001B[0;32m    317\u001B[0m             \u001B[38;5;124m\"\u001B[39m\u001B[38;5;124m because it has a CompositeImplicitAutograd kernel in core.\u001B[39m\u001B[38;5;124m\"\u001B[39m\n\u001B[0;32m    318\u001B[0m             \u001B[38;5;124m\"\u001B[39m\u001B[38;5;124m Instead we should let the operator decompose, and ensure that we have meta kernels\u001B[39m\u001B[38;5;124m\"\u001B[39m\n\u001B[0;32m    319\u001B[0m             \u001B[38;5;124m\"\u001B[39m\u001B[38;5;124m for the base ops that it decomposes into.\u001B[39m\u001B[38;5;124m\"\u001B[39m\n\u001B[0;32m    320\u001B[0m         )\n\u001B[0;32m    322\u001B[0m \u001B[38;5;28;01massert\u001B[39;00m \u001B[38;5;28mself\u001B[39m\u001B[38;5;241m.\u001B[39mm \u001B[38;5;129;01mis\u001B[39;00m \u001B[38;5;129;01mnot\u001B[39;00m \u001B[38;5;28;01mNone\u001B[39;00m\n\u001B[1;32m--> 323\u001B[0m \u001B[38;5;28mself\u001B[39m\u001B[38;5;241m.\u001B[39mm\u001B[38;5;241m.\u001B[39mimpl(\n\u001B[0;32m    324\u001B[0m     name,\n\u001B[0;32m    325\u001B[0m     dispatch_key \u001B[38;5;28;01mif\u001B[39;00m dispatch_key \u001B[38;5;241m!=\u001B[39m \u001B[38;5;124m\"\u001B[39m\u001B[38;5;124m\"\u001B[39m \u001B[38;5;28;01melse\u001B[39;00m \u001B[38;5;124m\"\u001B[39m\u001B[38;5;124mCompositeImplicitAutograd\u001B[39m\u001B[38;5;124m\"\u001B[39m,\n\u001B[0;32m    326\u001B[0m     fn,\n\u001B[0;32m    327\u001B[0m     with_keyset,\n\u001B[0;32m    328\u001B[0m )\n\u001B[0;32m    330\u001B[0m _impls\u001B[38;5;241m.\u001B[39madd(key)\n\u001B[0;32m    331\u001B[0m \u001B[38;5;28mself\u001B[39m\u001B[38;5;241m.\u001B[39m_op_impls\u001B[38;5;241m.\u001B[39madd(key)\n",
      "File \u001B[1;32m<frozen importlib._bootstrap>:463\u001B[0m, in \u001B[0;36m_lock_unlock_module\u001B[1;34m(name)\u001B[0m\n",
      "\u001B[1;31mKeyboardInterrupt\u001B[0m: "
     ]
    }
   ],
   "source": [
    "from chess import Board, pgn\n",
    "from auxiliary_func import board_to_matrix\n",
    "import torch\n",
    "from model import ChessModel\n",
    "import pickle\n",
    "import numpy as np"
   ]
  },
  {
   "cell_type": "markdown",
   "metadata": {},
   "source": [
    "# Предсказания"
   ]
  },
  {
   "cell_type": "markdown",
   "metadata": {},
   "source": [
    "1. Подготовка входных данных\n",
    "Преобразование шахматной доски в формат применимый для модели"
   ]
  },
  {
   "cell_type": "code",
   "execution_count": null,
   "metadata": {
    "ExecuteTime": {
     "start_time": "2024-12-21T17:12:59.570095200Z"
    }
   },
   "outputs": [],
   "source": [
    "def prepare_input(board: Board):\n",
    "    matrix = board_to_matrix(board)\n",
    "    X_tensor = torch.tensor(matrix, dtype=torch.float32).unsqueeze(0)\n",
    "    return X_tensor"
   ]
  },
  {
   "cell_type": "markdown",
   "metadata": {},
   "source": [
    "2. Загрузка модели и маппинга (move_to_int)"
   ]
  },
  {
   "cell_type": "code",
   "execution_count": null,
   "metadata": {
    "ExecuteTime": {
     "start_time": "2024-12-21T17:12:59.573094300Z"
    }
   },
   "outputs": [],
   "source": [
    "# Загрузка маппинга\n",
    "\n",
    "with open(\"../../models/heavy_move_to_int\", \"rb\") as file:\n",
    "    move_to_int = pickle.load(file)\n",
    "\n",
    "# Проверяем, доступен ли GPU\n",
    "device = torch.device(\"cuda\" if torch.cuda.is_available() else \"cpu\")\n",
    "print(f'Using device: {device}')\n",
    "\n",
    "# Загрузка модели\n",
    "model = ChessModel(num_classes=len(move_to_int))\n",
    "model.load_state_dict(torch.load(\"../../models/TORCH_100EPOCHS.pth\"))\n",
    "model.to(device)\n",
    "model.eval()  # Перевод модели в режим предсказаний\n",
    "\n",
    "int_to_move = {v: k for k, v in move_to_int.items()}\n",
    "# Функция для предсказаний\n",
    "def predict_move(board: Board):\n",
    "    X_tensor = prepare_input(board).to(device)\n",
    "    \n",
    "    with torch.no_grad():\n",
    "        logits = model(X_tensor)\n",
    "    \n",
    "    logits = logits.squeeze(0)  # Удаление лишних измерений, появившихся из-за того, что модель обучалась по пакетам данных\n",
    "    \n",
    "    probabilities = torch.softmax(logits, dim=0).cpu().numpy()  # Преобразование логитов в вероятности\n",
    "    legal_moves = list(board.legal_moves)\n",
    "    legal_moves_uci = [move.uci() for move in legal_moves]\n",
    "    sorted_indices = np.argsort(probabilities)[::-1]\n",
    "    for move_index in sorted_indices:\n",
    "        move = int_to_move[move_index]\n",
    "        if move in legal_moves_uci:\n",
    "            return move\n",
    "    \n",
    "    return None"
   ]
  },
  {
   "cell_type": "markdown",
   "metadata": {},
   "source": [
    "3. Используйте функцию ```predict_move``` для нахождения наилучшего хода"
   ]
  },
  {
   "cell_type": "code",
   "execution_count": null,
   "metadata": {
    "ExecuteTime": {
     "start_time": "2024-12-21T17:12:59.577093400Z"
    }
   },
   "outputs": [],
   "source": [
    "# Инициализации шахматной доски в начале игры\n",
    "board = Board()"
   ]
  },
  {
   "cell_type": "code",
   "execution_count": null,
   "metadata": {
    "ExecuteTime": {
     "end_time": "2024-12-21T17:12:59.583098700Z",
     "start_time": "2024-12-21T17:12:59.581099800Z"
    }
   },
   "outputs": [],
   "source": [
    "board"
   ]
  },
  {
   "cell_type": "code",
   "execution_count": null,
   "metadata": {
    "ExecuteTime": {
     "start_time": "2024-12-21T17:12:59.584098800Z"
    }
   },
   "outputs": [],
   "source": [
    "board.push_uci(\"e2e4\")"
   ]
  },
  {
   "cell_type": "code",
   "execution_count": null,
   "metadata": {
    "ExecuteTime": {
     "start_time": "2024-12-21T17:12:59.586098Z"
    }
   },
   "outputs": [],
   "source": [
    "# Предсказание хода и его совершение\n",
    "best_move = predict_move(board)\n",
    "board.push_uci(best_move)\n",
    "board"
   ]
  },
  {
   "cell_type": "code",
   "execution_count": null,
   "metadata": {
    "ExecuteTime": {
     "start_time": "2024-12-21T17:12:59.589101300Z"
    }
   },
   "outputs": [],
   "source": [
    "print(str(pgn.Game.from_board(board)))"
   ]
  }
 ],
 "metadata": {
  "kernelspec": {
   "display_name": ".venv",
   "language": "python",
   "name": "python3"
  },
  "language_info": {
   "codemirror_mode": {
    "name": "ipython",
    "version": 3
   },
   "file_extension": ".py",
   "mimetype": "text/x-python",
   "name": "python",
   "nbconvert_exporter": "python",
   "pygments_lexer": "ipython3",
   "version": "3.12.3"
  }
 },
 "nbformat": 4,
 "nbformat_minor": 2
}
